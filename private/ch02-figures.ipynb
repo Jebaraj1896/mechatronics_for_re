{
 "cells": [
  {
   "cell_type": "markdown",
   "id": "695d7ab0",
   "metadata": {},
   "source": [
    "### Chapter 02: Basic Electronics Review\n",
    "\n",
    "A notebook to generate EPS/PDF figures for Chapter 2 of the book \"Basic Electronics Review\".\n",
    "\n",
    "**Author:** Sivakumar Balasubramanian"
   ]
  },
  {
   "cell_type": "code",
   "execution_count": 6,
   "id": "40ab2055",
   "metadata": {},
   "outputs": [],
   "source": [
    "import numpy as np\n",
    "import matplotlib as mpl\n",
    "import matplotlib.pyplot as plt"
   ]
  },
  {
   "cell_type": "code",
   "execution_count": 115,
   "id": "581533b8",
   "metadata": {},
   "outputs": [],
   "source": [
    "# Define Matplotlib plot style\n",
    "# Maplotlib settings\n",
    "# Axes ticks labels fontsize\n",
    "plt.rcParams['xtick.labelsize'] = 14\n",
    "plt.rcParams['ytick.labelsize'] = 14\n",
    "# Axes labels fontsize\n",
    "plt.rcParams['axes.labelsize'] = 16\n",
    "# Title fontsize\n",
    "plt.rcParams['axes.titlesize'] = 16\n",
    "# Legend fontsize\n",
    "plt.rcParams['legend.fontsize'] = 12\n",
    "# All font must be Helvetica\n",
    "mpl.rcParams.update({\n",
    "    \"text.usetex\": True,\n",
    "    \"font.family\": \"sans-serif\",\n",
    "    \"text.latex.preamble\": r\"\\usepackage{cmbright}\",\n",
    "})"
   ]
  },
  {
   "cell_type": "markdown",
   "id": "8d2c462b",
   "metadata": {},
   "source": [
    "#### MOSFET iD-vDS Characteristic"
   ]
  },
  {
   "cell_type": "code",
   "execution_count": 116,
   "id": "3a6c1bfc",
   "metadata": {},
   "outputs": [],
   "source": [
    "def nmos_region(vgs, vds, vtn):\n",
    "    nmos_cutoff = lambda vgs, vtn: vgs < vtn\n",
    "    nmos_triode = lambda vgs, vds, vtn: vgs >= vtn and vds < (vgs - vtn)\n",
    "    nmos_saturation = lambda vgs, vds, vtn: vgs >= vtn and vds >= (vgs - vtn)\n",
    "    if nmos_cutoff(vgs, vtn):\n",
    "        return \"cutoff\"\n",
    "    elif nmos_triode(vgs, vds, vtn):\n",
    "        return \"triode\"\n",
    "    elif nmos_saturation(vgs, vds, vtn):\n",
    "        return \"saturation\"\n",
    "    else:\n",
    "        raise ValueError(\"Invalid NMOS region\")\n",
    "\n",
    "def nmos_id(vgs, vds, vtn):\n",
    "    # Check the region of operation.\n",
    "    region = nmos_region(vgs, vds, vtn)\n",
    "    if region == \"cutoff\":\n",
    "        return 0.0\n",
    "    elif region == \"triode\":\n",
    "        return (vgs - vtn) * vds - 0.5 * vds**2\n",
    "    elif region == \"saturation\":\n",
    "        return 0.5 * (vgs - vtn)**2\n"
   ]
  },
  {
   "cell_type": "code",
   "execution_count": 119,
   "id": "89049ca8",
   "metadata": {},
   "outputs": [
    {
     "data": {
      "image/png": "[encoded data removed]",
      "text/plain": [
       "<Figure size 800x300 with 2 Axes>"
      ]
     },
     "metadata": {},
     "output_type": "display_data"
    }
   ],
   "source": [
    "v_gs = np.arange(0.5, 5, 1.0)\n",
    "v_tn = 1.0\n",
    "v_ds = np.arange(0, 8, 0.1)\n",
    "\n",
    "# Plot the i_D versus v_DS for different v_GS values.\n",
    "fig = plt.figure(figsize=(8, 3.0))\n",
    "ax = fig.add_subplot(121)\n",
    "for vgs_val in v_gs:\n",
    "    i_d = [nmos_id(vgs_val, v_ds_val, v_tn) for v_ds_val in v_ds]\n",
    "    ax.plot(v_ds, i_d, lw=1, color=\"#aa0000\")\n",
    "# Triode and Saturation regions\n",
    "vds_bndry = np.arange(v_tn, 9, 0.1)\n",
    "id_sat = [nmos_id(vgs_val, vgs_val - v_tn, v_tn) for vgs_val in vds_bndry]\n",
    "ax.plot(vds_bndry - v_tn, id_sat, lw=0.5, color=\"#000\", dashes=[10, 5])\n",
    "ax.fill_between(vds_bndry - v_tn, 0, id_sat, color=\"#eee\", alpha=0.5)\n",
    "ax.set_xlabel('$v_{DS}$')\n",
    "ax.set_ylabel('$i_D$')\n",
    "ax.set_title('NMOS $i_{D}$ vs. $v_{DS}$ Characteristics', color=\"#aa0000\")\n",
    "ax.spines['top'].set_visible(False)\n",
    "ax.spines['right'].set_visible(False)\n",
    "ax.spines['bottom'].set_position(('outward', 5))\n",
    "ax.spines['left'].set_position(('outward', 5))\n",
    "ax.set_xticklabels([])\n",
    "ax.set_yticklabels([])\n",
    "ax.set_xlim(0, 8)\n",
    "ax.set_ylim(0, 7.5)\n",
    "# Add text for the different regions\n",
    "ax.text(2.0, 6.75, 'Triode', fontsize=16, color='#0000cc', ha='center')\n",
    "ax.text(5.5, 6.75, 'Saturation', fontsize=16, color='#0000cc', ha='center')\n",
    "\n",
    "# i_D versus v_GS for different v_DS values.\n",
    "ax = fig.add_subplot(122)\n",
    "v_ds = 10\n",
    "v_tn = 1.5\n",
    "v_gs = np.arange(0, 7, 0.1)\n",
    "i_d = [nmos_id(v_gs_val, v_ds, v_tn) for v_gs_val in v_gs]\n",
    "ax.plot(v_gs, i_d, lw=1, color=\"#aa0000\")\n",
    "ax.axvline(v_tn, lw=0.5, color=\"#000\", dashes=[10, 5])\n",
    "ax.text(v_tn + 0.1, 1.0, '$V_{t}$', fontsize=14, color='#000', ha='left')\n",
    "ax.set_xlabel('$v_{GS}$')\n",
    "ax.set_ylabel('$i_D$')\n",
    "ax.set_title('NMOS $i_{D}$ vs. $v_{GS}$ Characteristics', color=\"#aa0000\")\n",
    "ax.spines['top'].set_visible(False)\n",
    "ax.spines['right'].set_visible(False)\n",
    "ax.spines['bottom'].set_position(('outward', 5))\n",
    "ax.spines['left'].set_position(('outward', 5))\n",
    "ax.set_xticklabels([])\n",
    "ax.set_yticklabels([])\n",
    "ax.set_xlim(0, 7)\n",
    "ax.set_ylim(-0.1, 10.1)\n",
    "\n",
    "plt.tight_layout()\n",
    "\n",
    "plt.savefig('../lecture_notes/figure/ch03/fig03-mosfet-iv-curves.svg',\n",
    "            format=\"svg\", bbox_inches='tight')\n",
    "plt.savefig('../lecture_notes/figure/ch03/fig03-mosfet-iv-curves.pdf',\n",
    "            format=\"pdf\", bbox_inches='tight')"
   ]
  },
  {
   "cell_type": "code",
   "execution_count": null,
   "id": "2c9f5998",
   "metadata": {},
   "outputs": [],
   "source": []
  },
  {
   "cell_type": "code",
   "execution_count": null,
   "id": "86ed79d8",
   "metadata": {},
   "outputs": [
    {
     "data": {
      "text/plain": [
       "170"
      ]
     },
     "execution_count": 24,
     "metadata": {},
     "output_type": "execute_result"
    }
   ],
   "source": []
  },
  {
   "cell_type": "code",
   "execution_count": null,
   "id": "4effa60c",
   "metadata": {},
   "outputs": [],
   "source": []
  }
 ],
 "metadata": {
  "kernelspec": {
   "display_name": "mechre",
   "language": "python",
   "name": "python3"
  },
  "language_info": {
   "codemirror_mode": {
    "name": "ipython",
    "version": 3
   },
   "file_extension": ".py",
   "mimetype": "text/x-python",
   "name": "python",
   "nbconvert_exporter": "python",
   "pygments_lexer": "ipython3",
   "version": "3.13.5"
  }
 },
 "nbformat": 4,
 "nbformat_minor": 5
}
